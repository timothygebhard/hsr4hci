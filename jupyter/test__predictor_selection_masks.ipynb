{
 "cells": [
  {
   "cell_type": "markdown",
   "metadata": {},
   "source": [
    "# Test predictor masks\n",
    "\n",
    "Test different masks for selecting the predictor pixels."
   ]
  },
  {
   "cell_type": "code",
   "execution_count": null,
   "metadata": {},
   "outputs": [],
   "source": [
    "%matplotlib inline\n",
    "%config InlineBackend.figure_format='retina'"
   ]
  },
  {
   "cell_type": "code",
   "execution_count": null,
   "metadata": {},
   "outputs": [],
   "source": [
    "import matplotlib.pyplot as plt\n",
    "import numpy as np\n",
    "\n",
    "from hsr4hci.utils.predictor_selection import get_predictor_mask"
   ]
  },
  {
   "cell_type": "code",
   "execution_count": null,
   "metadata": {},
   "outputs": [],
   "source": [
    "POSITION = (100, 60.5) #[::-1]\n",
    "MASK_SIZE = (121, 121)\n",
    "\n",
    "fig, axes = plt.subplots(ncols=3)\n",
    "\n",
    "for i, mask_type in enumerate(('default', 'default_grid', 'santa')):\n",
    "\n",
    "    mask_args = dict(mask_size=MASK_SIZE, position=POSITION, mask_params={})\n",
    "    \n",
    "    if mask_type == 'default':\n",
    "        mask_args['mask_params'] = dict(region_size=5)\n",
    "    elif mask_type == 'default_grid':\n",
    "        mask_args['mask_params'] = dict(region_size=5)\n",
    "        mask_args = {**mask_args, **dict(lambda_over_d=0.1, pixscale=0.0271)}\n",
    "    else:\n",
    "        mask_args = {**mask_args, **dict(lambda_over_d=0.1, pixscale=0.0271)}\n",
    "    \n",
    "    MASK = get_predictor_mask(mask_type=mask_type, mask_args=mask_args)\n",
    "\n",
    "    axes[i].imshow(MASK, cmap='gray', origin='lower')\n",
    "    axes[i].plot(POSITION[1], POSITION[0], marker='x', color='lime', )\n",
    "\n",
    "    axes[i].axhline(y=MASK_SIZE[0]/2, color='red', alpha=0.5, lw=1)\n",
    "    axes[i].axvline(x=MASK_SIZE[1]/2, color='red', alpha=0.5, lw=1)\n",
    "    \n",
    "    axes[i].set_title(f\"Mask type '{mask_type}' for position {POSITION}\")\n",
    "\n",
    "plt.gcf().set_size_inches(18, 8, forward=True)\n",
    "plt.tight_layout()\n",
    "plt.show()"
   ]
  }
 ],
 "metadata": {
  "kernelspec": {
   "display_name": "hsr4hci",
   "language": "python",
   "name": "hsr4hci"
  },
  "language_info": {
   "codemirror_mode": {
    "name": "ipython",
    "version": 3
   },
   "file_extension": ".py",
   "mimetype": "text/x-python",
   "name": "python",
   "nbconvert_exporter": "python",
   "pygments_lexer": "ipython3",
   "version": "3.7.1"
  }
 },
 "nbformat": 4,
 "nbformat_minor": 2
}
