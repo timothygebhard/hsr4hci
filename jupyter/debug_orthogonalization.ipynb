{
 "cells": [
  {
   "cell_type": "code",
   "execution_count": null,
   "metadata": {},
   "outputs": [],
   "source": [
    "import numpy as np\n",
    "import matplotlib.pyplot as plt\n",
    "import os\n",
    "from copy import deepcopy"
   ]
  },
  {
   "cell_type": "code",
   "execution_count": null,
   "metadata": {},
   "outputs": [],
   "source": [
    "from hsr4hci.utils.config import load_config\n",
    "from hsr4hci.utils.data import load_data\n",
    "from hsr4hci.utils.fits import save_fits\n",
    "from hsr4hci.models.hsr import HalfSiblingRegression"
   ]
  },
  {
   "cell_type": "markdown",
   "metadata": {},
   "source": [
    "## Run a test experiment for one pixel position"
   ]
  },
  {
   "cell_type": "code",
   "execution_count": null,
   "metadata": {},
   "outputs": [],
   "source": [
    "collection_position = (30, 20)\n",
    "experiment_dir = \"../experiments/debug_ortho_test/\"\n",
    "config = load_config(os.path.join(experiment_dir, 'config.json'))"
   ]
  },
  {
   "cell_type": "code",
   "execution_count": null,
   "metadata": {},
   "outputs": [],
   "source": [
    "# Load frames and parallactic angles from HDF file\n",
    "stack, parang, psf_template = load_data(dataset_config=config['dataset'])\n",
    "\n",
    "stack -= np.median(stack, axis=0)"
   ]
  },
  {
   "cell_type": "code",
   "execution_count": null,
   "metadata": {},
   "outputs": [],
   "source": [
    "# Instantiate model\n",
    "hsr = HalfSiblingRegression(config=config)"
   ]
  },
  {
   "cell_type": "code",
   "execution_count": null,
   "metadata": {},
   "outputs": [],
   "source": [
    "hsr.train_position(position=collection_position,\n",
    "                   stack=stack,\n",
    "                   parang=parang,\n",
    "                   psf_template=psf_template)"
   ]
  },
  {
   "cell_type": "markdown",
   "metadata": {},
   "source": [
    "## Get the collection"
   ]
  },
  {
   "cell_type": "code",
   "execution_count": null,
   "metadata": {},
   "outputs": [],
   "source": [
    "test_collection = hsr.m__collections[collection_position]\n",
    "plt.imshow(test_collection.m__collection_region_mask)"
   ]
  },
  {
   "cell_type": "markdown",
   "metadata": {},
   "source": [
    "## Visualize the sources and targets"
   ]
  },
  {
   "cell_type": "code",
   "execution_count": null,
   "metadata": {},
   "outputs": [],
   "source": [
    "planet_position = test_collection.m__planet_positions[200]\n",
    "planet_position = (int(planet_position[0]), int(planet_position[1]))\n",
    "planet_position"
   ]
  },
  {
   "cell_type": "code",
   "execution_count": null,
   "metadata": {},
   "outputs": [],
   "source": [
    "pred_position = planet_position #list(test_collection.m__predictors.keys())[30]"
   ]
  },
  {
   "cell_type": "code",
   "execution_count": null,
   "metadata": {},
   "outputs": [],
   "source": [
    "predictor = test_collection.m__predictors[pred_position]\n",
    "test_sources = test_collection.m__sources[pred_position]\n",
    "dummy = bool(test_collection.m__use_forward_model * test_collection.m__add_planet_column)\n",
    "print(test_sources.shape)"
   ]
  },
  {
   "cell_type": "code",
   "execution_count": null,
   "metadata": {},
   "outputs": [],
   "source": [
    "plt.plot(test_sources[:, 500])\n",
    "plt.title(\"Example noise source with orthogonalization\")"
   ]
  },
  {
   "cell_type": "code",
   "execution_count": null,
   "metadata": {},
   "outputs": [],
   "source": [
    "noise_prediction = predictor.get_noise_prediction(sources=test_sources,\n",
    "                                                  add_dummy_column=dummy)\n",
    "plt.plot(noise_prediction, label=\"prediction\")\n",
    "plt.plot(stack[:, pred_position[0], pred_position[1]], label=\"original target sequence\")\n",
    "plt.axvline(200, color=\"r\",label=\"  ~Planet position\")\n",
    "plt.legend()\n",
    "plt.title(\"Prediction vs. target sequence \\n with orthogonalization\")"
   ]
  },
  {
   "cell_type": "code",
   "execution_count": null,
   "metadata": {},
   "outputs": [],
   "source": [
    "residual = stack[:, pred_position[0], pred_position[1]] - noise_prediction\n",
    "residual -= np.median(residual)\n",
    "plt.plot(residual, label=\"Residual\")\n",
    "plt.axvline(200, color=\"r\",label=\" ~Planet position\")\n",
    "plt.legend()\n",
    "plt.title(\"Residual with orthogonalization\")"
   ]
  },
  {
   "cell_type": "markdown",
   "metadata": {},
   "source": [
    "## Run the same experiment with"
   ]
  },
  {
   "cell_type": "code",
   "execution_count": null,
   "metadata": {},
   "outputs": [],
   "source": [
    "config_no_ortho = deepcopy(config)\n",
    "config_no_ortho[\"experiment\"]['sources'][\"preprocessing\"] = [{'type': 'standardize', 'parameters': {}},]"
   ]
  },
  {
   "cell_type": "code",
   "execution_count": null,
   "metadata": {},
   "outputs": [],
   "source": [
    "# Instantiate model\n",
    "hsr_no_ortho = HalfSiblingRegression(config=config_no_ortho)"
   ]
  },
  {
   "cell_type": "code",
   "execution_count": null,
   "metadata": {},
   "outputs": [],
   "source": [
    "hsr_no_ortho.train_position(position=collection_position,\n",
    "                            stack=stack,\n",
    "                            parang=parang,\n",
    "                            psf_template=psf_template)"
   ]
  },
  {
   "cell_type": "code",
   "execution_count": null,
   "metadata": {},
   "outputs": [],
   "source": [
    "test_collection_no_ortho = hsr_no_ortho.m__collections[collection_position]\n",
    "plt.imshow(test_collection_no_ortho.m__collection_region_mask)"
   ]
  },
  {
   "cell_type": "markdown",
   "metadata": {},
   "source": [
    "## Visualize the sources and targets no ortho"
   ]
  },
  {
   "cell_type": "code",
   "execution_count": null,
   "metadata": {},
   "outputs": [],
   "source": [
    "predictor_no_ortho = test_collection_no_ortho.m__predictors[pred_position]\n",
    "test_sources_no_ortho = test_collection_no_ortho.m__sources[pred_position]\n",
    "\n",
    "dummy_no_ortho = bool(test_collection_no_ortho.m__use_forward_model * test_collection_no_ortho.m__add_planet_column)"
   ]
  },
  {
   "cell_type": "code",
   "execution_count": null,
   "metadata": {},
   "outputs": [],
   "source": [
    "idx=500\n",
    "plt.plot(test_sources_no_ortho[:, idx])\n",
    "plt.plot(test_sources[:, idx])"
   ]
  },
  {
   "cell_type": "code",
   "execution_count": null,
   "metadata": {},
   "outputs": [],
   "source": [
    "noise_prediction_no_ortho = predictor_no_ortho.get_noise_prediction(sources=test_sources_no_ortho,\n",
    "                                                                    add_dummy_column=dummy_no_ortho)\n",
    "\n",
    "plt.plot(noise_prediction_no_ortho, label=\"prediction\")\n",
    "plt.plot(stack[:, pred_position[0], pred_position[1]], label=\"original target sequence\")\n",
    "plt.axvline(200, color=\"r\",label=\"  ~Planet position\")\n",
    "plt.legend()\n",
    "plt.title(\"Prediction vs. target sequence \\n without orthogonalization\")"
   ]
  },
  {
   "cell_type": "code",
   "execution_count": null,
   "metadata": {},
   "outputs": [],
   "source": [
    "residual_no_ortho = stack[:, pred_position[0], pred_position[1]] - noise_prediction_no_ortho\n",
    "residual_no_ortho -= np.median(residual_no_ortho)\n",
    "plt.plot(residual_no_ortho, label=\"Residual\")\n",
    "plt.axvline(200, color=\"r\",label=\" ~Planet position\")\n",
    "plt.legend()\n",
    "plt.title(\"Residual without orthogonalization\")"
   ]
  },
  {
   "cell_type": "markdown",
   "metadata": {},
   "source": [
    "## Residual vs original data"
   ]
  },
  {
   "cell_type": "code",
   "execution_count": null,
   "metadata": {},
   "outputs": [],
   "source": [
    "residual = stack[:, pred_position[0], pred_position[1]] - noise_prediction\n",
    "residual -= np.median(residual)\n",
    "plt.plot(stack[:, pred_position[0], pred_position[1]], label=\"original target sequence\")\n",
    "plt.plot(residual, label=\"Residual\")\n",
    "plt.axvline(200, color=\"r\",label=\" ~Planet position\")\n",
    "plt.legend()\n",
    "plt.title(\"Residual with orthogonalization\")"
   ]
  },
  {
   "cell_type": "markdown",
   "metadata": {},
   "source": [
    "## Observation: Around the position of the planet from the forward model the residual signal with orthogonalization is very similar to the raw sequence. As we only use the information around this position we might end up with a sequence identical to the input!"
   ]
  },
  {
   "cell_type": "code",
   "execution_count": null,
   "metadata": {},
   "outputs": [],
   "source": []
  }
 ],
 "metadata": {
  "kernelspec": {
   "display_name": "venv_hsr",
   "language": "python",
   "name": "venv_hsr"
  },
  "language_info": {
   "codemirror_mode": {
    "name": "ipython",
    "version": 3
   },
   "file_extension": ".py",
   "mimetype": "text/x-python",
   "name": "python",
   "nbconvert_exporter": "python",
   "pygments_lexer": "ipython3",
   "version": "3.7.2"
  }
 },
 "nbformat": 4,
 "nbformat_minor": 2
}
