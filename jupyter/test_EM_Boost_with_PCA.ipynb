{
 "cells": [
  {
   "cell_type": "code",
   "execution_count": 1,
   "metadata": {},
   "outputs": [],
   "source": [
    "import numpy as np\n",
    "import os\n",
    "import matplotlib.pyplot as plt\n",
    "from tqdm import tqdm\n",
    "from copy import deepcopy\n",
    "from sklearn.decomposition import PCA, KernelPCA"
   ]
  },
  {
   "cell_type": "code",
   "execution_count": 2,
   "metadata": {},
   "outputs": [],
   "source": [
    "from hsr4hci.utils.config import load_config\n",
    "from hsr4hci.utils.data import load_data\n",
    "from hsr4hci.utils.fits import save_fits\n",
    "from hsr4hci.utils.adi_tools import derotate_frames\n",
    "from hsr4hci.utils.evaluation import compute_figures_of_merit\n",
    "from hsr4hci.utils.forward_modeling import get_signal_stack"
   ]
  },
  {
   "cell_type": "markdown",
   "metadata": {},
   "source": [
    "## Start the experiment"
   ]
  },
  {
   "cell_type": "code",
   "execution_count": 27,
   "metadata": {},
   "outputs": [],
   "source": [
    "# Beta Pic\n",
    "experiment_dir = \"../experiments/default/local/\"\n",
    "config = load_config(os.path.join(experiment_dir, 'config.json'))\n",
    "\n",
    "stack, parang, psf_template = load_data(config[\"dataset\"])\n",
    "psf_template = psf_template[80:-80,80:-80 ]\n",
    "\n",
    "n_components = 50"
   ]
  },
  {
   "cell_type": "code",
   "execution_count": 36,
   "metadata": {},
   "outputs": [],
   "source": [
    "# HD135344\n",
    "experiment_dir = \"../experiments/HD135344/\"\n",
    "config = load_config(os.path.join(experiment_dir, 'config.json'))\n",
    "stack, parang, psf_template = load_data(config[\"dataset\"])\n",
    "psf_template = psf_template[80:-80,80:-80 ]\n",
    "\n",
    "n_components = 15"
   ]
  },
  {
   "cell_type": "code",
   "execution_count": 16,
   "metadata": {},
   "outputs": [],
   "source": [
    "# HR8799\n",
    "experiment_dir = \"../experiments/default/local/\"\n",
    "config = load_config(os.path.join(experiment_dir, 'config.json'))\n",
    "config[\"dataset\"][\"file_path\"] = \"../../../30_data/HR8799/stacked_50.hdf\"\n",
    "config[\"dataset\"][\"frame_size\"] = [149, 149]\n",
    "\n",
    "stack, parang, psf_template = load_data(config[\"dataset\"])\n",
    "parang = np.concatenate([parang[:280], parang[495:]])\n",
    "stack = np.concatenate([stack[:280], stack[495:]])\n",
    "stack = stack[:, 30:-30, 30:-30]\n",
    "n_components = 5"
   ]
  },
  {
   "cell_type": "code",
   "execution_count": 28,
   "metadata": {},
   "outputs": [
    {
     "name": "stdout",
     "output_type": "stream",
     "text": [
      "(594, 81, 81)\n",
      "(25, 25)\n"
     ]
    }
   ],
   "source": [
    "stack -= np.median(stack, axis=0)\n",
    "print(stack.shape)\n",
    "print(psf_template.shape)"
   ]
  },
  {
   "cell_type": "markdown",
   "metadata": {},
   "source": [
    "## Add a fake planet"
   ]
  },
  {
   "cell_type": "code",
   "execution_count": 7,
   "metadata": {},
   "outputs": [],
   "source": [
    "fake_signal = get_signal_stack((15, 15),\n",
    "                              frame_size=(stack.shape[1],\n",
    "                                          stack.shape[2]),\n",
    "                              parang=parang,\n",
    "                              psf_cropped=psf_template)[0]\n",
    "fake_signal /= np.max(fake_signal)\n",
    "fake_signal *= 20"
   ]
  },
  {
   "cell_type": "code",
   "execution_count": 8,
   "metadata": {},
   "outputs": [],
   "source": [
    "stack += fake_signal"
   ]
  },
  {
   "cell_type": "markdown",
   "metadata": {},
   "source": [
    "## Add grid pattern"
   ]
  },
  {
   "cell_type": "code",
   "execution_count": 18,
   "metadata": {},
   "outputs": [],
   "source": [
    "pattern = np.ones((stack.shape[1], stack.shape[2]))\n",
    "length = stack.shape[1]\n",
    "\n",
    "idx = [i for i in range(stack.shape[1]) if i%10==0 or i%10==1 or i%10==2]\n",
    "\n",
    "pattern[idx] = 0\n",
    "pattern[:, idx] = 0\n",
    "\n",
    "pattern_stack = np.array([pattern for i in range(stack.shape[0])])\n",
    "pattern_stack = derotate_frames(pattern_stack, -parang)"
   ]
  },
  {
   "cell_type": "code",
   "execution_count": 19,
   "metadata": {},
   "outputs": [
    {
     "data": {
      "text/plain": [
       "<matplotlib.image.AxesImage at 0x1292b3390>"
      ]
     },
     "execution_count": 19,
     "metadata": {},
     "output_type": "execute_result"
    },
    {
     "data": {
      "image/png": "[encoded data removed]",
      "text/plain": [
       "<Figure size 432x288 with 1 Axes>"
      ]
     },
     "metadata": {
      "needs_background": "light"
     },
     "output_type": "display_data"
    }
   ],
   "source": [
    "plt.imshow(pattern)"
   ]
  },
  {
   "cell_type": "code",
   "execution_count": 20,
   "metadata": {},
   "outputs": [],
   "source": [
    "stack += pattern_stack * 10"
   ]
  },
  {
   "cell_type": "markdown",
   "metadata": {},
   "source": [
    "## EM functions"
   ]
  },
  {
   "cell_type": "code",
   "execution_count": 29,
   "metadata": {},
   "outputs": [],
   "source": [
    "def m_step(input_stack,\n",
    "           current_planet_signal,\n",
    "           prev_noise_model,\n",
    "           parang,\n",
    "           learning_rate,\n",
    "           n_components):\n",
    "    \n",
    "    # 1. Build the current signal stack\n",
    "    current_planet_signal_pos = deepcopy(current_planet_signal)\n",
    "    current_planet_signal_pos[current_planet_signal_pos < 0] = 0  # ReLu\n",
    "    signal_stack = np.array([current_planet_signal_pos for i in range(input_stack.shape[0])])\n",
    "    signal_stack = derotate_frames(signal_stack, -parang)\n",
    "    \n",
    "    # 2. input_without planet\n",
    "    input_no_planet = input_stack - signal_stack\n",
    "    \n",
    "    # 3. subtract the previous noise model (if no boosting this is allways zero)\n",
    "    input_no_planet_noisefree = input_no_planet - prev_noise_model\n",
    "    \n",
    "    # 4.) Build the noise model\n",
    "    tmp_pca_noise_model = PCA(n_components=n_components)\n",
    "    noise_rep = tmp_pca_noise_model.fit_transform(input_no_planet_noisefree.reshape(\n",
    "        input_no_planet_noisefree.shape[0], -1))\n",
    "    tmp_noise_estimate = tmp_pca_noise_model.inverse_transform(noise_rep).reshape(*input_no_planet_noisefree.shape)\n",
    "    noise_model = prev_noise_model + learning_rate * tmp_noise_estimate\n",
    "    \n",
    "    # 5.) Build residual\n",
    "    residual_stack = input_no_planet - noise_model\n",
    "    \n",
    "    return residual_stack, noise_model"
   ]
  },
  {
   "cell_type": "code",
   "execution_count": 30,
   "metadata": {},
   "outputs": [],
   "source": [
    "def e_step(residual_stack,\n",
    "           current_planet_signal,\n",
    "           parang,\n",
    "           delta_residual=False):\n",
    "    \n",
    "    # 1.) Detrotate and average the resigual or delta residual\n",
    "    residual_stack_rot = derotate_frames(residual_stack, parang)\n",
    "    resiudal_delta_frame = np.mean(residual_stack_rot, axis=0)\n",
    "    \n",
    "    # 2.) a delta residual should only correct small mistakes. Its mean should be around 0.\n",
    "    # Note if we don't do this there is a risk that we continously add or subtract flux all over the frame\n",
    "    if delta_residual:\n",
    "        resiudal_delta_frame -= np.mean(resiudal_delta_frame)\n",
    "    \n",
    "    # 3.) update planet signal\n",
    "    current_planet_signal_pos = deepcopy(current_planet_signal)\n",
    "    current_planet_signal_pos[current_planet_signal_pos < 0] = 0  # ReLu\n",
    "    planet_signal = resiudal_delta_frame + current_planet_signal_pos\n",
    "    \n",
    "    return planet_signal"
   ]
  },
  {
   "cell_type": "markdown",
   "metadata": {},
   "source": [
    "## Run the iteration"
   ]
  },
  {
   "cell_type": "code",
   "execution_count": null,
   "metadata": {},
   "outputs": [
    {
     "name": "stderr",
     "output_type": "stream",
     "text": [
      "100%|██████████| 10/10 [00:20<00:00,  2.00s/it]\n",
      "100%|██████████| 10/10 [00:21<00:00,  2.17s/it]\n",
      " 20%|██        | 2/10 [00:03<00:14,  1.86s/it]"
     ]
    }
   ],
   "source": [
    "planet_residuals = []\n",
    "\n",
    "current_planet_signal = np.zeros((stack.shape[1], stack.shape[2]))\n",
    "prev_noise_model = np.zeros_like(stack)\n",
    "input_data = stack\n",
    "learning_rate= 0.99 #0.9\n",
    "\n",
    "\n",
    "tmp_comp = n_components\n",
    "for boost_idx in range(5):\n",
    "    \n",
    "    for em_idx in tqdm(range(10)):\n",
    "        if boost_idx == 0:\n",
    "            tmp_lr = 1.0\n",
    "        else:\n",
    "            tmp_lr = learning_rate\n",
    "        \n",
    "        tmp_residual_stack, tmp_noise_model = m_step(input_stack=input_data,\n",
    "                                                     current_planet_signal=current_planet_signal,\n",
    "                                                     prev_noise_model=prev_noise_model,\n",
    "                                                     parang=parang,\n",
    "                                                     learning_rate=tmp_lr,\n",
    "                                                     n_components=tmp_comp)\n",
    "        \n",
    "        tmp_planet_signal = e_step(tmp_residual_stack,\n",
    "                                   current_planet_signal,\n",
    "                                   parang=parang,\n",
    "                                   delta_residual= not(em_idx==0))\n",
    "        \n",
    "        # save the result\n",
    "        planet_residuals.append(deepcopy(tmp_planet_signal))\n",
    "        \n",
    "        # iterate\n",
    "        current_planet_signal = tmp_planet_signal\n",
    "    \n",
    "    # boosting\n",
    "    prev_noise_model = tmp_noise_model\n",
    "    tmp_comp +=5  # optional: With PCA boosting is not that crucial"
   ]
  },
  {
   "cell_type": "code",
   "execution_count": 26,
   "metadata": {},
   "outputs": [],
   "source": [
    "save_fits(planet_residuals, \"/Users/markusbonse/Desktop/residuals_beta_pic_emb.fits\")"
   ]
  },
  {
   "cell_type": "code",
   "execution_count": null,
   "metadata": {},
   "outputs": [],
   "source": []
  },
  {
   "cell_type": "code",
   "execution_count": null,
   "metadata": {},
   "outputs": [],
   "source": []
  },
  {
   "cell_type": "code",
   "execution_count": 40,
   "metadata": {},
   "outputs": [],
   "source": [
    "save_fits(residuals, \"/Users/markusbonse/Desktop/residuals_HD135344_15pcnm.fits\")\n",
    "#save_fits(delta_residuals, \"/Users/markusbonse/Desktop/residuals_HD135344_delta.fits\")"
   ]
  },
  {
   "cell_type": "code",
   "execution_count": 27,
   "metadata": {},
   "outputs": [],
   "source": [
    "save_fits(residuals, \"/Users/markusbonse/Desktop/residuals_hr8799.fits\")\n",
    "save_fits(delta_residuals, \"/Users/markusbonse/Desktop/residuals_hr8799_delta.fits\")"
   ]
  },
  {
   "cell_type": "code",
   "execution_count": 28,
   "metadata": {},
   "outputs": [],
   "source": [
    "save_fits(residuals, \"/Users/markusbonse/Desktop/residuals_beta_pic_grid.fits\")"
   ]
  },
  {
   "cell_type": "code",
   "execution_count": null,
   "metadata": {},
   "outputs": [],
   "source": []
  }
 ],
 "metadata": {
  "kernelspec": {
   "display_name": "venv_hsr",
   "language": "python",
   "name": "venv_hsr"
  },
  "language_info": {
   "codemirror_mode": {
    "name": "ipython",
    "version": 3
   },
   "file_extension": ".py",
   "mimetype": "text/x-python",
   "name": "python",
   "nbconvert_exporter": "python",
   "pygments_lexer": "ipython3",
   "version": "3.7.2"
  }
 },
 "nbformat": 4,
 "nbformat_minor": 2
}
