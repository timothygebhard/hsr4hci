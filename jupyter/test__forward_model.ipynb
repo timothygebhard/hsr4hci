{
 "cells": [
  {
   "cell_type": "markdown",
   "metadata": {},
   "source": [
    "# Test forward model\n",
    "\n",
    "Compute forward model, plot results, and save as FITS file."
   ]
  },
  {
   "cell_type": "code",
   "execution_count": null,
   "metadata": {},
   "outputs": [],
   "source": [
    "%matplotlib inline\n",
    "%config InlineBackend.figure_format='retina'"
   ]
  },
  {
   "cell_type": "code",
   "execution_count": null,
   "metadata": {},
   "outputs": [],
   "source": [
    "import h5py\n",
    "import matplotlib.pyplot as plt\n",
    "import numpy as np\n",
    "\n",
    "from hsr4hci.utils.config import get_data_dir\n",
    "from hsr4hci.utils.fits import save_fits\n",
    "from hsr4hci.utils.forward_modeling import crop_psf_template, \\\n",
    "    get_signal_stack, get_collection_region_mask\n",
    "from hsr4hci.utils.data import load_data"
   ]
  },
  {
   "cell_type": "markdown",
   "metadata": {},
   "source": [
    "### Load data, parallactic angles and PSF template"
   ]
  },
  {
   "cell_type": "code",
   "execution_count": null,
   "metadata": {},
   "outputs": [],
   "source": [
    "dataset_config = {\"file_path\" : f\"{get_data_dir()}/51_Eridani/51eri_irdis_k1.hdf5\",\n",
    "                  \"stack_key\" : \"/science\",\n",
    "                  \"parang_key\" : \"/header_science/PARANG\",\n",
    "                  \"psf_template_key\" : \"/flux\",\n",
    "                  \"pixscale\": 0.01226,\n",
    "                  \"lambda_over_d\": 0.053,\n",
    "                  \"frame_size\" : (121, 121),\n",
    "                  \"subsample\" : 1}\n",
    "\n",
    "stack, parang, psf_template = load_data(dataset_config=dataset_config)"
   ]
  },
  {
   "cell_type": "markdown",
   "metadata": {},
   "source": [
    "### Crop and mask the PSF"
   ]
  },
  {
   "cell_type": "code",
   "execution_count": null,
   "metadata": {},
   "outputs": [],
   "source": [
    "psf_cropped = crop_psf_template(psf_template=psf_template,\n",
    "                                psf_radius=0.5,\n",
    "                                rescale_psf=1,\n",
    "                                pixscale=dataset_config['pixscale'],\n",
    "                                lambda_over_d=dataset_config['lambda_over_d'])"
   ]
  },
  {
   "cell_type": "markdown",
   "metadata": {},
   "source": [
    "### Compute the forward model and plot results"
   ]
  },
  {
   "cell_type": "code",
   "execution_count": null,
   "metadata": {},
   "outputs": [],
   "source": [
    "signal_stack = get_signal_stack(position=(50, 50),\n",
    "                                frame_size=dataset_config['frame_size'],\n",
    "                                parang=parang,\n",
    "                                psf_cropped=psf_cropped)"
   ]
  },
  {
   "cell_type": "code",
   "execution_count": null,
   "metadata": {},
   "outputs": [],
   "source": [
    "plt.imshow(signal_stack[0], origin='lower')\n",
    "plt.show()"
   ]
  },
  {
   "cell_type": "code",
   "execution_count": null,
   "metadata": {},
   "outputs": [],
   "source": [
    "plt.imshow(get_collection_region_mask(signal_stack), origin='lower')\n",
    "plt.show()"
   ]
  },
  {
   "cell_type": "markdown",
   "metadata": {},
   "source": [
    "### Save forward model as FITS file"
   ]
  },
  {
   "cell_type": "code",
   "execution_count": null,
   "metadata": {},
   "outputs": [],
   "source": [
    "save_fits(signal_stack, 'forward_model.fits')"
   ]
  }
 ],
 "metadata": {
  "hide_input": false,
  "kernelspec": {
   "display_name": "Python 3",
   "language": "python",
   "name": "python3"
  },
  "language_info": {
   "codemirror_mode": {
    "name": "ipython",
    "version": 3
   },
   "file_extension": ".py",
   "mimetype": "text/x-python",
   "name": "python",
   "nbconvert_exporter": "python",
   "pygments_lexer": "ipython3",
   "version": "3.7.1"
  }
 },
 "nbformat": 4,
 "nbformat_minor": 4
}
