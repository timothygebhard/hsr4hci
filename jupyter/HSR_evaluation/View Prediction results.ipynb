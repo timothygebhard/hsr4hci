{
 "cells": [
  {
   "cell_type": "code",
   "execution_count": null,
   "metadata": {},
   "outputs": [],
   "source": [
    "import h5py\n",
    "import numpy as np\n",
    "\n",
    "from hsr4hci.utils.adi_tools import de_rotate_frames, classical_adi\n",
    "from hsr4hci.utils.general import save_as_fits"
   ]
  },
  {
   "cell_type": "code",
   "execution_count": null,
   "metadata": {},
   "outputs": [],
   "source": [
    "config_file = \"/Users/markusbonse/Desktop/Results_Beta_Pic_1_with_bias/Beta_Pic_predictions_1_with_bias.hdf\""
   ]
  },
  {
   "cell_type": "code",
   "execution_count": null,
   "metadata": {},
   "outputs": [],
   "source": [
    "input_file = h5py.File(config_file)"
   ]
  },
  {
   "cell_type": "code",
   "execution_count": null,
   "metadata": {},
   "outputs": [],
   "source": [
    "angles = input_file['parang'][...]\n",
    "predictions = input_file['predictions'][...]\n",
    "test_stack = input_file['test_stack'][...]"
   ]
  },
  {
   "cell_type": "code",
   "execution_count": null,
   "metadata": {},
   "outputs": [],
   "source": [
    "input_file.close()"
   ]
  },
  {
   "cell_type": "markdown",
   "metadata": {},
   "source": [
    "## Compute Results"
   ]
  },
  {
   "cell_type": "code",
   "execution_count": null,
   "metadata": {},
   "outputs": [],
   "source": [
    "# with hsr\n",
    "subtracted = test_stack - predictions\n",
    "residuals_hsr = de_rotate_frames(stack=subtracted,\n",
    "                                 para_angles=angles)\n",
    "hsr_residual = np.mean(residuals_hsr, axis=0)"
   ]
  },
  {
   "cell_type": "code",
   "execution_count": null,
   "metadata": {},
   "outputs": [],
   "source": [
    "classical_residual = classical_adi(stack=test_stack,\n",
    "                                   para_angles=angles)"
   ]
  },
  {
   "cell_type": "code",
   "execution_count": null,
   "metadata": {},
   "outputs": [],
   "source": [
    "hsr_prediction_residual = classical_adi(stack=predictions,\n",
    "                                        para_angles=angles)"
   ]
  },
  {
   "cell_type": "markdown",
   "metadata": {},
   "source": [
    "## Write out some plots"
   ]
  },
  {
   "cell_type": "code",
   "execution_count": null,
   "metadata": {},
   "outputs": [],
   "source": [
    "results_dir = \"./\""
   ]
  },
  {
   "cell_type": "code",
   "execution_count": null,
   "metadata": {},
   "outputs": [],
   "source": [
    "save_as_fits(predictions[::5],\n",
    "             results_dir + '/predictions.fits',\n",
    "             overwrite=True)\n",
    "\n",
    "save_as_fits(classical_residual,\n",
    "             results_dir + '/classical_adi_residual.fits',\n",
    "             overwrite=True)\n",
    "\n",
    "save_as_fits(hsr_residual,\n",
    "             results_dir + '/hsr_residual.fits',\n",
    "             overwrite=True)\n",
    "\n",
    "save_as_fits(hsr_prediction_residual,\n",
    "             results_dir + '/hsr_prediction_residual.fits',\n",
    "             overwrite=True)"
   ]
  },
  {
   "cell_type": "code",
   "execution_count": null,
   "metadata": {},
   "outputs": [],
   "source": []
  }
 ],
 "metadata": {
  "kernelspec": {
   "display_name": "Python 3",
   "language": "python",
   "name": "python3"
  },
  "language_info": {
   "codemirror_mode": {
    "name": "ipython",
    "version": 3
   },
   "file_extension": ".py",
   "mimetype": "text/x-python",
   "name": "python",
   "nbconvert_exporter": "python",
   "pygments_lexer": "ipython3",
   "version": "3.7.4"
  }
 },
 "nbformat": 4,
 "nbformat_minor": 2
}
