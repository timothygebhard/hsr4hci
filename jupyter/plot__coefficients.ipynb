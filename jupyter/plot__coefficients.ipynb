{
 "cells": [
  {
   "cell_type": "code",
   "execution_count": null,
   "metadata": {},
   "outputs": [],
   "source": [
    "#%matplotlib inline\n",
    "%matplotlib notebook\n",
    "%config InlineBackend.figure_format='retina'"
   ]
  },
  {
   "cell_type": "code",
   "execution_count": null,
   "metadata": {},
   "outputs": [],
   "source": [
    "import os \n",
    "\n",
    "import numpy as np\n",
    "import matplotlib.pyplot as plt\n",
    "import matplotlib as mpl\n",
    "import matplotlib.colors as colors\n",
    "\n",
    "from astropy import units\n",
    "from matplotlib.patches import Circle\n",
    "\n",
    "from hsr4hci.utils.fits import read_fits\n",
    "from hsr4hci.utils.masking import get_predictor_mask, get_sausage_mask\n",
    "from hsr4hci.utils.units import set_units_for_instrument"
   ]
  },
  {
   "cell_type": "code",
   "execution_count": null,
   "metadata": {},
   "outputs": [],
   "source": [
    "set_units_for_instrument(pixscale=units.Quantity(0.0271, 'arcsec / pixel'),\n",
    "                         lambda_over_d=units.Quantity(0.096, 'arcsec'))"
   ]
  },
  {
   "cell_type": "code",
   "execution_count": null,
   "metadata": {},
   "outputs": [],
   "source": [
    "results_dir = '/Users/timothy/Desktop/hsr4hci/experiments/playground/local/results/round_000/'\n",
    "coefficients = read_fits(os.path.join(results_dir, 'coefficients.fits'))\n",
    "print(coefficients.shape)"
   ]
  },
  {
   "cell_type": "code",
   "execution_count": null,
   "metadata": {},
   "outputs": [],
   "source": [
    "def draw(position, split_idx=0):\n",
    "    \n",
    "    plt.clf()\n",
    "    mask_size = coefficients.shape[1:3]\n",
    "    \n",
    "    # Select the coefficients and show them\n",
    "    coef = np.mean(coefficients[:, position[0], position[1], ...], axis=0)\n",
    "    \n",
    "    n_predictors = np.count_nonzero(~np.isnan(coef))\n",
    "    limit = np.percentile(np.nan_to_num(coef), 99)\n",
    "    plt.imshow(coef, origin='lower', cmap='RdBu_r', vmin=-1.5*limit, vmax=1.5*limit)\n",
    "    \n",
    "    # Add X for current position\n",
    "    plt.plot(position[1], position[0], 'x', ms=6, color='blue', zorder=99)\n",
    "        \n",
    "    # Plot a circle at 0.7 arcsec\n",
    "    circle = plt.Circle((mask_size[0]/2, mask_size[1]/2), \n",
    "                        units.Quantity(0.7, 'arcsec').to('pixel').value, \n",
    "                        facecolor='none', edgecolor='gray', zorder=99)\n",
    "    plt.gca().add_artist(circle)\n",
    "        \n",
    "    plt.gca().set_position([0, 0, 1, 1], which='both')    \n",
    "    plt.gcf().suptitle(f'position: {position} | '\n",
    "                       f'n_predictors: {n_predictors} |'\n",
    "                       f' scale: ({-1.5*limit:.2f}, {1.5*limit:.2f})',\n",
    "                       fontsize=8)\n",
    "\n",
    "    plt.show()\n",
    "\n",
    "    \n",
    "def on_press(event):\n",
    "    position_ = (int(event.ydata), int(event.xdata))\n",
    "    draw(position_)\n",
    "\n",
    "plt.gcf().set_size_inches(5, 5, forward=True)\n",
    "plt.gcf().canvas.mpl_connect('button_press_event', on_press)\n",
    "\n",
    "draw(position=(30, 30), split_idx=4)"
   ]
  },
  {
   "cell_type": "code",
   "execution_count": null,
   "metadata": {},
   "outputs": [],
   "source": []
  }
 ],
 "metadata": {
  "hide_input": false,
  "kernelspec": {
   "display_name": "hsr4hci",
   "language": "python",
   "name": "hsr4hci"
  },
  "language_info": {
   "codemirror_mode": {
    "name": "ipython",
    "version": 3
   },
   "file_extension": ".py",
   "mimetype": "text/x-python",
   "name": "python",
   "nbconvert_exporter": "python",
   "pygments_lexer": "ipython3",
   "version": "3.7.1"
  }
 },
 "nbformat": 4,
 "nbformat_minor": 2
}
