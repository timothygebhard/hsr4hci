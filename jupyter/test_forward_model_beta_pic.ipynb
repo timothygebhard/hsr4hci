{
 "cells": [
  {
   "cell_type": "code",
   "execution_count": null,
   "metadata": {},
   "outputs": [],
   "source": [
    "import h5py\n",
    "from hsr4hci.utils.fits import save_fits\n",
    "from hsr4hci.utils.forward_modeling import get_signal_stack\n",
    "from hsr4hci.utils.data import load_data"
   ]
  },
  {
   "cell_type": "code",
   "execution_count": null,
   "metadata": {},
   "outputs": [],
   "source": [
    "# import the data\n",
    "load_config = {\"file_path\" : \"/Users/markusbonse/Desktop/betapic_naco_lp_full.hdf5\",\n",
    "               \"stack_key\" : \"/stack\",\n",
    "               \"parang_key\" : \"/header_stack/PARANG\",\n",
    "               \"psf_template_key\" : \"/flux\",\n",
    "               \"frame_size\" : (185, 185),\n",
    "               \"subsample\" : 1}"
   ]
  },
  {
   "cell_type": "code",
   "execution_count": null,
   "metadata": {},
   "outputs": [],
   "source": [
    "stack, parang, psf_template = load_data(load_config)"
   ]
  },
  {
   "cell_type": "code",
   "execution_count": null,
   "metadata": {},
   "outputs": [],
   "source": [
    "psf_template.shape"
   ]
  },
  {
   "cell_type": "markdown",
   "metadata": {},
   "source": [
    "## Create Test planet forward model"
   ]
  },
  {
   "cell_type": "code",
   "execution_count": null,
   "metadata": {},
   "outputs": [],
   "source": [
    "test_signal_stack = get_signal_stack(position = (50, 50),\n",
    "                                     frame_size = (185, 185),\n",
    "                                     parang = parang,\n",
    "                                     psf_template = psf_template,\n",
    "                                     psf_radius = 3.)"
   ]
  },
  {
   "cell_type": "code",
   "execution_count": null,
   "metadata": {},
   "outputs": [],
   "source": [
    "test_signal_stack.shape"
   ]
  },
  {
   "cell_type": "code",
   "execution_count": null,
   "metadata": {},
   "outputs": [],
   "source": [
    "save_fits(test_signal_stack,\n",
    "          \"/Users/markusbonse/Desktop/forward_model.fits\")"
   ]
  },
  {
   "cell_type": "code",
   "execution_count": null,
   "metadata": {},
   "outputs": [],
   "source": []
  }
 ],
 "metadata": {
  "kernelspec": {
   "display_name": "Python 3",
   "language": "python",
   "name": "python3"
  },
  "language_info": {
   "codemirror_mode": {
    "name": "ipython",
    "version": 3
   },
   "file_extension": ".py",
   "mimetype": "text/x-python",
   "name": "python",
   "nbconvert_exporter": "python",
   "pygments_lexer": "ipython3",
   "version": "3.7.4"
  }
 },
 "nbformat": 4,
 "nbformat_minor": 4
}
