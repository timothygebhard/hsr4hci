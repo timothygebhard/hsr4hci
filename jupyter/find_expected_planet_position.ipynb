{
 "cells": [
  {
   "cell_type": "markdown",
   "metadata": {},
   "source": [
    "# Find expected planet position\n",
    "\n",
    "The point of this notebook is to run classical ADI without properly aligning the images such that \"up = North\" in the images. Instead all frames are rotated to align with the first frame, which remains at its original orientation. The position at which the planet becomes visible now is the position at which we expect it to show up in the forward modeling-based detection mask."
   ]
  },
  {
   "cell_type": "code",
   "execution_count": null,
   "metadata": {},
   "outputs": [],
   "source": [
    "%matplotlib inline\n",
    "%config InlineBackend.figure_format='retina'"
   ]
  },
  {
   "cell_type": "code",
   "execution_count": null,
   "metadata": {},
   "outputs": [],
   "source": [
    "from hsr4hci.utils.adi_tools import classical_adi\n",
    "from hsr4hci.utils.config import load_config\n",
    "from hsr4hci.utils.data import load_data\n",
    "\n",
    "import numpy as np\n",
    "import matplotlib.pyplot as plt"
   ]
  },
  {
   "cell_type": "markdown",
   "metadata": {},
   "source": [
    "### Load configuration and data"
   ]
  },
  {
   "cell_type": "code",
   "execution_count": null,
   "metadata": {},
   "outputs": [],
   "source": [
    "config = load_config('../experiments/default/config.json')"
   ]
  },
  {
   "cell_type": "code",
   "execution_count": null,
   "metadata": {},
   "outputs": [],
   "source": [
    "stack, parang, psf_template = load_data(dataset_config=config['dataset'])\n",
    "\n",
    "print('stack', stack.shape)\n",
    "print('parang', parang.shape)\n",
    "print('psf_template', psf_template.shape)"
   ]
  },
  {
   "cell_type": "markdown",
   "metadata": {},
   "source": [
    "### ADI with offset to ensure \"up == North\"\n",
    "\n",
    "This is \"proper\" ADI; we only run it for comparison and as a sanity check of the used functions."
   ]
  },
  {
   "cell_type": "code",
   "execution_count": null,
   "metadata": {},
   "outputs": [],
   "source": [
    "residuals_1 = classical_adi(stack=stack, \n",
    "                            para_angles=parang)\n",
    "plt.imshow(residuals_1, origin='lower', vmin=0, vmax=50)\n",
    "plt.show()"
   ]
  },
  {
   "cell_type": "markdown",
   "metadata": {},
   "source": [
    "### ADI *without* offset to ensure \"up == North\"\n",
    "This is the location where the planet should be at $t=0$, that is, in the first frame (without any derotation)."
   ]
  },
  {
   "cell_type": "code",
   "execution_count": null,
   "metadata": {},
   "outputs": [],
   "source": [
    "residuals_2 = classical_adi(stack=stack, \n",
    "                            para_angles=(parang - parang[0]))\n",
    "plt.imshow(residuals_2, origin='lower', vmin=0, vmax=50)\n",
    "plt.show()"
   ]
  }
 ],
 "metadata": {
  "kernelspec": {
   "display_name": "Python 3",
   "language": "python",
   "name": "python3"
  },
  "language_info": {
   "codemirror_mode": {
    "name": "ipython",
    "version": 3
   },
   "file_extension": ".py",
   "mimetype": "text/x-python",
   "name": "python",
   "nbconvert_exporter": "python",
   "pygments_lexer": "ipython3",
   "version": "3.6.7"
  }
 },
 "nbformat": 4,
 "nbformat_minor": 2
}
