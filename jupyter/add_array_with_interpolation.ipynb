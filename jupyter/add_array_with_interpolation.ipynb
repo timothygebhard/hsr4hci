{
 "cells": [
  {
   "cell_type": "code",
   "execution_count": null,
   "metadata": {},
   "outputs": [],
   "source": [
    "%matplotlib inline\n",
    "%config InlineBackend.figure_format='retina'"
   ]
  },
  {
   "cell_type": "code",
   "execution_count": null,
   "metadata": {},
   "outputs": [],
   "source": [
    "import numpy as np\n",
    "import matplotlib.pyplot as plt\n",
    "from astropy.nddata.utils import add_array\n",
    "from scipy.ndimage import shift"
   ]
  },
  {
   "cell_type": "code",
   "execution_count": null,
   "metadata": {},
   "outputs": [],
   "source": [
    "def add_array_interp(array_larger, array_small, position):\n",
    "    \n",
    "    width, height = array_small.shape\n",
    "    dummy = np.zeros_like(array_larger)\n",
    "    \n",
    "    dummy = add_array(dummy, array_small, position)\n",
    "    offset = (position[0] % 1, position[1] % 1)\n",
    "    \n",
    "    dummy = shift(dummy, offset, order=2)\n",
    "    return dummy"
   ]
  },
  {
   "cell_type": "code",
   "execution_count": null,
   "metadata": {},
   "outputs": [],
   "source": [
    "large_array = np.zeros((10, 10))\n",
    "small_array = np.ones((5, 5))\n",
    "\n",
    "result = add_array_interp(large_array, small_array, (3.25, 3.75))\n",
    "\n",
    "plt.imshow(result, vmin=0, vmax=1)\n",
    "plt.show()\n",
    "\n",
    "print(np.around(result, 2))\n",
    "print(np.sum(result))"
   ]
  },
  {
   "cell_type": "code",
   "execution_count": null,
   "metadata": {},
   "outputs": [],
   "source": []
  }
 ],
 "metadata": {
  "kernelspec": {
   "display_name": "Python 3",
   "language": "python",
   "name": "python3"
  },
  "language_info": {
   "codemirror_mode": {
    "name": "ipython",
    "version": 3
   },
   "file_extension": ".py",
   "mimetype": "text/x-python",
   "name": "python",
   "nbconvert_exporter": "python",
   "pygments_lexer": "ipython3",
   "version": "3.7.1"
  }
 },
 "nbformat": 4,
 "nbformat_minor": 2
}
